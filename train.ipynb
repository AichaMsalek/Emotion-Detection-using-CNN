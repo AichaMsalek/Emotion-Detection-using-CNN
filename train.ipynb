{
 "cells": [
  {
   "cell_type": "code",
   "execution_count": 1,
   "metadata": {},
   "outputs": [],
   "source": [
    "# importing libraries\n",
    "import cv2\n",
    "from keras.models import Sequential\n",
    "from keras.layers import Conv2D, MaxPooling2D, Dense, Dropout, Flatten\n",
    "from keras.optimizers import Adam\n",
    "from keras.preprocessing.image import ImageDataGenerator"
   ]
  },
  {
   "cell_type": "code",
   "execution_count": 2,
   "metadata": {},
   "outputs": [],
   "source": [
    "# Initialize image data generator with rescaling\n",
    "train_data_gen = ImageDataGenerator(rescale=1./255)\n",
    "validation_data_gen = ImageDataGenerator(rescale=1./255)"
   ]
  },
  {
   "cell_type": "code",
   "execution_count": 3,
   "metadata": {},
   "outputs": [
    {
     "name": "stdout",
     "output_type": "stream",
     "text": [
      "Found 28709 images belonging to 7 classes.\n",
      "Found 7178 images belonging to 7 classes.\n"
     ]
    }
   ],
   "source": [
    "# Preprocessing test and validation images\n",
    "train_generator = train_data_gen.flow_from_directory(\n",
    "        'data/train',\n",
    "        target_size=(48, 48),\n",
    "        batch_size=64,\n",
    "        color_mode=\"grayscale\",\n",
    "        class_mode='categorical')\n",
    "\n",
    "validation_generator = validation_data_gen.flow_from_directory(\n",
    "        'data/test',\n",
    "        target_size=(48, 48),\n",
    "        batch_size=64,\n",
    "        color_mode=\"grayscale\",\n",
    "        class_mode='categorical')"
   ]
  },
  {
   "cell_type": "code",
   "execution_count": 4,
   "metadata": {},
   "outputs": [
    {
     "name": "stderr",
     "output_type": "stream",
     "text": [
      "C:\\Users\\hp\\AppData\\Local\\Packages\\PythonSoftwareFoundation.Python.3.10_qbz5n2kfra8p0\\LocalCache\\local-packages\\Python310\\site-packages\\keras\\optimizers\\optimizer_v2\\adam.py:117: UserWarning: The `lr` argument is deprecated, use `learning_rate` instead.\n",
      "  super().__init__(name, **kwargs)\n"
     ]
    }
   ],
   "source": [
    "# build model structure\n",
    "emotion_model = Sequential()\n",
    "\n",
    "emotion_model.add(Conv2D(32, kernel_size=(3, 3), activation='relu', input_shape=(48, 48, 1)))\n",
    "emotion_model.add(Conv2D(64, kernel_size=(3, 3), activation='relu'))\n",
    "emotion_model.add(MaxPooling2D(pool_size=(2, 2)))\n",
    "emotion_model.add(Dropout(0.25))\n",
    "\n",
    "emotion_model.add(Conv2D(128, kernel_size=(3, 3), activation='relu'))\n",
    "emotion_model.add(MaxPooling2D(pool_size=(2, 2)))\n",
    "emotion_model.add(Conv2D(128, kernel_size=(3, 3), activation='relu'))\n",
    "emotion_model.add(MaxPooling2D(pool_size=(2, 2)))\n",
    "emotion_model.add(Dropout(0.25))\n",
    "\n",
    "emotion_model.add(Flatten())\n",
    "emotion_model.add(Dense(1024, activation='relu'))\n",
    "emotion_model.add(Dropout(0.5))\n",
    "emotion_model.add(Dense(7, activation='softmax'))\n",
    "\n",
    "cv2.ocl.setUseOpenCL(False)\n",
    "\n",
    "emotion_model.compile(loss='categorical_crossentropy', optimizer=Adam(lr=0.0001, decay=1e-6), metrics=['accuracy'])"
   ]
  },
  {
   "cell_type": "code",
   "execution_count": 5,
   "metadata": {},
   "outputs": [
    {
     "name": "stderr",
     "output_type": "stream",
     "text": [
      "C:\\Users\\hp\\AppData\\Local\\Temp\\ipykernel_15140\\3198193097.py:2: UserWarning: `Model.fit_generator` is deprecated and will be removed in a future version. Please use `Model.fit`, which supports generators.\n",
      "  emotion_model_info = emotion_model.fit_generator(\n"
     ]
    },
    {
     "name": "stdout",
     "output_type": "stream",
     "text": [
      "Epoch 1/50\n",
      "448/448 [==============================] - 414s 919ms/step - loss: 1.8033 - accuracy: 0.2611 - val_loss: 1.7157 - val_accuracy: 0.3496\n",
      "Epoch 2/50\n",
      "448/448 [==============================] - 337s 752ms/step - loss: 1.6272 - accuracy: 0.3687 - val_loss: 1.5323 - val_accuracy: 0.4148\n",
      "Epoch 3/50\n",
      "448/448 [==============================] - 296s 662ms/step - loss: 1.5194 - accuracy: 0.4155 - val_loss: 1.4458 - val_accuracy: 0.4477\n",
      "Epoch 4/50\n",
      "448/448 [==============================] - 313s 698ms/step - loss: 1.4520 - accuracy: 0.4413 - val_loss: 1.3909 - val_accuracy: 0.4768\n",
      "Epoch 5/50\n",
      "448/448 [==============================] - 303s 676ms/step - loss: 1.3944 - accuracy: 0.4702 - val_loss: 1.3500 - val_accuracy: 0.4844\n",
      "Epoch 6/50\n",
      "448/448 [==============================] - 329s 735ms/step - loss: 1.3442 - accuracy: 0.4883 - val_loss: 1.3125 - val_accuracy: 0.5000\n",
      "Epoch 7/50\n",
      "448/448 [==============================] - 336s 751ms/step - loss: 1.2997 - accuracy: 0.5089 - val_loss: 1.2757 - val_accuracy: 0.5177\n",
      "Epoch 8/50\n",
      "448/448 [==============================] - 319s 712ms/step - loss: 1.2614 - accuracy: 0.5240 - val_loss: 1.2697 - val_accuracy: 0.5186\n",
      "Epoch 9/50\n",
      "448/448 [==============================] - 336s 750ms/step - loss: 1.2238 - accuracy: 0.5364 - val_loss: 1.2287 - val_accuracy: 0.5301\n",
      "Epoch 10/50\n",
      "448/448 [==============================] - 312s 696ms/step - loss: 1.1970 - accuracy: 0.5507 - val_loss: 1.1991 - val_accuracy: 0.5476\n",
      "Epoch 11/50\n",
      "448/448 [==============================] - 276s 617ms/step - loss: 1.1643 - accuracy: 0.5652 - val_loss: 1.1901 - val_accuracy: 0.5492\n",
      "Epoch 12/50\n",
      "448/448 [==============================] - 272s 607ms/step - loss: 1.1402 - accuracy: 0.5739 - val_loss: 1.1702 - val_accuracy: 0.5566\n",
      "Epoch 13/50\n",
      "448/448 [==============================] - 273s 610ms/step - loss: 1.1100 - accuracy: 0.5849 - val_loss: 1.1607 - val_accuracy: 0.5640\n",
      "Epoch 14/50\n",
      "448/448 [==============================] - 271s 605ms/step - loss: 1.0897 - accuracy: 0.5927 - val_loss: 1.1590 - val_accuracy: 0.5636\n",
      "Epoch 15/50\n",
      "448/448 [==============================] - 365s 815ms/step - loss: 1.0562 - accuracy: 0.6043 - val_loss: 1.1339 - val_accuracy: 0.5724\n",
      "Epoch 16/50\n",
      "448/448 [==============================] - 402s 897ms/step - loss: 1.0363 - accuracy: 0.6120 - val_loss: 1.1255 - val_accuracy: 0.5769\n",
      "Epoch 17/50\n",
      "448/448 [==============================] - 412s 919ms/step - loss: 1.0137 - accuracy: 0.6234 - val_loss: 1.1124 - val_accuracy: 0.5815\n",
      "Epoch 18/50\n",
      "448/448 [==============================] - 401s 895ms/step - loss: 0.9893 - accuracy: 0.6325 - val_loss: 1.1023 - val_accuracy: 0.5847\n",
      "Epoch 19/50\n",
      "448/448 [==============================] - 402s 897ms/step - loss: 0.9627 - accuracy: 0.6448 - val_loss: 1.0985 - val_accuracy: 0.5866\n",
      "Epoch 20/50\n",
      "448/448 [==============================] - 400s 893ms/step - loss: 0.9374 - accuracy: 0.6552 - val_loss: 1.1096 - val_accuracy: 0.5850\n",
      "Epoch 21/50\n",
      "448/448 [==============================] - 401s 894ms/step - loss: 0.9148 - accuracy: 0.6623 - val_loss: 1.0893 - val_accuracy: 0.5954\n",
      "Epoch 22/50\n",
      "448/448 [==============================] - 401s 896ms/step - loss: 0.8887 - accuracy: 0.6748 - val_loss: 1.0803 - val_accuracy: 0.6027\n",
      "Epoch 23/50\n",
      "448/448 [==============================] - 409s 913ms/step - loss: 0.8652 - accuracy: 0.6828 - val_loss: 1.0867 - val_accuracy: 0.6014\n",
      "Epoch 24/50\n",
      "448/448 [==============================] - 402s 897ms/step - loss: 0.8400 - accuracy: 0.6920 - val_loss: 1.1060 - val_accuracy: 0.5997\n",
      "Epoch 25/50\n",
      "448/448 [==============================] - 388s 866ms/step - loss: 0.8197 - accuracy: 0.7005 - val_loss: 1.0790 - val_accuracy: 0.6069\n",
      "Epoch 26/50\n",
      "448/448 [==============================] - 357s 798ms/step - loss: 0.7894 - accuracy: 0.7102 - val_loss: 1.0821 - val_accuracy: 0.6081\n",
      "Epoch 27/50\n",
      "448/448 [==============================] - 362s 807ms/step - loss: 0.7669 - accuracy: 0.7171 - val_loss: 1.0872 - val_accuracy: 0.6013\n",
      "Epoch 28/50\n",
      "448/448 [==============================] - 354s 789ms/step - loss: 0.7538 - accuracy: 0.7271 - val_loss: 1.0850 - val_accuracy: 0.6055\n",
      "Epoch 29/50\n",
      "448/448 [==============================] - 358s 799ms/step - loss: 0.7220 - accuracy: 0.7379 - val_loss: 1.0798 - val_accuracy: 0.6092\n",
      "Epoch 30/50\n",
      "448/448 [==============================] - 387s 863ms/step - loss: 0.6927 - accuracy: 0.7463 - val_loss: 1.0829 - val_accuracy: 0.6104\n",
      "Epoch 31/50\n",
      "448/448 [==============================] - 387s 863ms/step - loss: 0.6735 - accuracy: 0.7532 - val_loss: 1.0918 - val_accuracy: 0.6136\n",
      "Epoch 32/50\n",
      "448/448 [==============================] - 448s 1s/step - loss: 0.6488 - accuracy: 0.7662 - val_loss: 1.1019 - val_accuracy: 0.6112\n",
      "Epoch 33/50\n",
      "448/448 [==============================] - 373s 831ms/step - loss: 0.6335 - accuracy: 0.7690 - val_loss: 1.1062 - val_accuracy: 0.6137\n",
      "Epoch 34/50\n",
      "448/448 [==============================] - 312s 697ms/step - loss: 0.6144 - accuracy: 0.7766 - val_loss: 1.1016 - val_accuracy: 0.6137\n",
      "Epoch 35/50\n",
      "448/448 [==============================] - 298s 666ms/step - loss: 0.5895 - accuracy: 0.7870 - val_loss: 1.1172 - val_accuracy: 0.6130\n",
      "Epoch 36/50\n",
      "448/448 [==============================] - 267s 596ms/step - loss: 0.5761 - accuracy: 0.7922 - val_loss: 1.1208 - val_accuracy: 0.6151\n",
      "Epoch 37/50\n",
      "448/448 [==============================] - 266s 595ms/step - loss: 0.5510 - accuracy: 0.8012 - val_loss: 1.1305 - val_accuracy: 0.6116\n",
      "Epoch 38/50\n",
      "448/448 [==============================] - 263s 588ms/step - loss: 0.5287 - accuracy: 0.8097 - val_loss: 1.1368 - val_accuracy: 0.6155\n",
      "Epoch 39/50\n",
      "448/448 [==============================] - 284s 633ms/step - loss: 0.5091 - accuracy: 0.8159 - val_loss: 1.1474 - val_accuracy: 0.6212\n",
      "Epoch 40/50\n",
      "448/448 [==============================] - 291s 649ms/step - loss: 0.4944 - accuracy: 0.8214 - val_loss: 1.1411 - val_accuracy: 0.6141\n",
      "Epoch 41/50\n",
      "448/448 [==============================] - 285s 635ms/step - loss: 0.4885 - accuracy: 0.8213 - val_loss: 1.1431 - val_accuracy: 0.6217\n",
      "Epoch 42/50\n",
      "448/448 [==============================] - 285s 635ms/step - loss: 0.4635 - accuracy: 0.8324 - val_loss: 1.1507 - val_accuracy: 0.6140\n",
      "Epoch 43/50\n",
      "448/448 [==============================] - 284s 634ms/step - loss: 0.4527 - accuracy: 0.8384 - val_loss: 1.1564 - val_accuracy: 0.6129\n",
      "Epoch 44/50\n",
      "448/448 [==============================] - 284s 633ms/step - loss: 0.4406 - accuracy: 0.8418 - val_loss: 1.1618 - val_accuracy: 0.6172\n",
      "Epoch 45/50\n",
      "448/448 [==============================] - 284s 633ms/step - loss: 0.4203 - accuracy: 0.8493 - val_loss: 1.1871 - val_accuracy: 0.6211\n",
      "Epoch 46/50\n",
      "448/448 [==============================] - 35393s 79s/step - loss: 0.4007 - accuracy: 0.8564 - val_loss: 1.1906 - val_accuracy: 0.6189\n",
      "Epoch 47/50\n",
      "448/448 [==============================] - 283s 632ms/step - loss: 0.3956 - accuracy: 0.8574 - val_loss: 1.2191 - val_accuracy: 0.6197\n",
      "Epoch 48/50\n",
      "448/448 [==============================] - 273s 609ms/step - loss: 0.3816 - accuracy: 0.8624 - val_loss: 1.2009 - val_accuracy: 0.6172\n",
      "Epoch 49/50\n",
      "448/448 [==============================] - 265s 592ms/step - loss: 0.3723 - accuracy: 0.8658 - val_loss: 1.2357 - val_accuracy: 0.6196\n",
      "Epoch 50/50\n",
      "448/448 [==============================] - 292s 653ms/step - loss: 0.3629 - accuracy: 0.8689 - val_loss: 1.2310 - val_accuracy: 0.6264\n"
     ]
    }
   ],
   "source": [
    "# Train the neural network/model\n",
    "emotion_model_info = emotion_model.fit_generator(\n",
    "        train_generator,\n",
    "        steps_per_epoch=28709 // 64,\n",
    "        epochs=50,\n",
    "        validation_data=validation_generator,\n",
    "        validation_steps=7178 // 64)"
   ]
  },
  {
   "cell_type": "code",
   "execution_count": 6,
   "metadata": {},
   "outputs": [],
   "source": [
    "# save model structure in jason file\n",
    "model_json = emotion_model.to_json()\n",
    "with open(\"emotion_model.json\", \"w\") as json_file:\n",
    "    json_file.write(model_json)\n",
    "\n",
    "# save trained model weight in .h5 file\n",
    "emotion_model.save_weights('emotion_model.h5')"
   ]
  }
 ],
 "metadata": {
  "kernelspec": {
   "display_name": "Python 3",
   "language": "python",
   "name": "python3"
  },
  "language_info": {
   "codemirror_mode": {
    "name": "ipython",
    "version": 3
   },
   "file_extension": ".py",
   "mimetype": "text/x-python",
   "name": "python",
   "nbconvert_exporter": "python",
   "pygments_lexer": "ipython3",
   "version": "3.10.11"
  },
  "orig_nbformat": 4
 },
 "nbformat": 4,
 "nbformat_minor": 2
}
